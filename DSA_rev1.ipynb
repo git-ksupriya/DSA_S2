{
 "cells": [
  {
   "cell_type": "markdown",
   "id": "c4f69c8d-bfb7-46db-9ab5-6ef89dc06645",
   "metadata": {},
   "source": [
    "# Library Management System Using Linked Lists\n",
    "\n",
    "\n",
    "\n",
    "## INTRODUCTION\n",
    "\n",
    "Our project focuses on creating an efficient Library Management system, by using just linked lists. A library managment system is designed to easily manage storge, retrival & tracking of books in a library. it efficiently stores all the data related to availability, transaction and return status of the books.\n",
    "\n",
    "In this project we are trying to implement a way where we perform all the basic operations needed in a Library Management System without using traditional methods like arrays or relational databases. While arrays provide with direct indexing without the use of pointers, they have fixed size and memory, making it difficult for operations like insertion and deletion.\n",
    "By using linked lists, we enable dynamic memory management, efficient insertions and deletions.\n",
    "w\n",
    "The system allows:\n",
    "- Adding books to the library.\n",
    "- Retrieving book details.\n",
    "- Checking book availability.\n",
    "- Limiting users to borrowing a maximum of 3 books.\n",
    "- Borrowing and returning books.\n",
    "- Tracking all transactions.\n",
    "\n",
    "### Concept of Linked Lists\n",
    "\n",
    "A linked list is a dynamic data structure which has data stored in elements called **\"nodes\"**, with each node containing a **value** and a **pointer** to the next node in the sequence. This pointer is a variable referencing the memory address to the next node. Unlike an array it doesn't store data in a contiguous manner and the allocation can be random depending on the memory availability. It contains properties like:-\n",
    "- **Dynamic Memory** allocation\n",
    "- **Efficent** insertion and deletion\n",
    "- Can be stored wherever free memory is available\n",
    "\n",
    "  We are planning to use three linked lists to support the system:-\n",
    "1. **Books List**: Stores details about books, such as title, author, Book ID, and availability.\n",
    "2. **Users List**: Stores user details, including user ID, name, and borrowed books.\n",
    "3. **Transactions List**: Records book borrow and return activities for tracking purposes.\n",
    "\n"
   ]
  },
  {
   "cell_type": "code",
   "execution_count": 12,
   "id": "2e391fda-8def-4387-9c96-5f40be138c47",
   "metadata": {},
   "outputs": [],
   "source": [
    "#initializing a node class in Linked list\n",
    "class Node:\n",
    "    def __init__(self, data):\n",
    "        self.data = data \n",
    "        self.next = None  # Pointer to next node"
   ]
  },
  {
   "cell_type": "markdown",
   "id": "5a27667a-df47-4493-b489-2ba489991578",
   "metadata": {},
   "source": [
    "# Traditional vs Linked list approach\n",
    "\n",
    "| Feature | Traditional Approach (Arrays) | Linked List Approach |\n",
    "|---------|--------------------------------|----------------------|\n",
    "| **Memory Allocation** | Fixed size, wastes memory if the entire size is not utilzed | Dynamic, uses memory efficiently |\n",
    "| **Insertion/Deletion** | Requires shifting elements, slow | Efficient, requires only pointer updates |\n",
    "| **Search Speed** | Faster in sorted arrays | Slower for unsorted data (for larger datasets), but manageable with traversal |\n",
    "| **Scalability** | Limited by pre-defined size | Easily expandable without reallocation |\n",
    "| **Flexibility** | Hard to modify and extend | Can dynamically add or remove books|\n",
    "\n",
    "\n",
    "\n",
    "## Object-Oriented Programming (OOPS) concept related to our Project\n",
    "\n",
    "The overall design of the project is based on OOPs principles which helps in creating a structured, scalable and reusable system.\n",
    "### Key OOPs Concepts Used:\n",
    "1. **Classes and Objects**  \n",
    "   - A **class** defines the blueprint for objects, while **objects** are instances of classes.  \n",
    "   - We create separate classes for **Node, Person, Student, Librarian, Book, HardCopy, EBook, LinkedList**.\n",
    "\n",
    "2. **Encapsulation**  \n",
    "   - Data and operations related to books, users, and transactions are grouped inside respective classes.  \n",
    "   - This ensures data integrity and prevents direct modification of attributes.\n",
    "\n",
    "3. **Abstraction**  \n",
    "   - Users can interact with simple functions like *borrow_book()* and *return_book()*, without knowing internal implementations.  \n",
    "   - The complexity of linked list management is hidden.\n"
   ]
  },
  {
   "cell_type": "code",
   "execution_count": 6,
   "id": "825d5417-d18f-4785-9c2e-77918ae2042b",
   "metadata": {},
   "outputs": [],
   "source": [
    "# Book Base Class\n",
    "class Book:\n",
    "    def __init__(self, title, author, book_id):\n",
    "        self.title = title\n",
    "        self.author = author\n",
    "        self.book_id = book_id\n",
    "        self.is_available = True\n",
    "\n",
    "    def book_type(self):\n",
    "        return \"General Book\"\n",
    "\n",
    "\n",
    "# HardCopy class (Extends Book)\n",
    "class HardCopy(Book):\n",
    "    def __init__(self, title, author, book_id, pages):\n",
    "        super().__init__(title, author, book_id)\n",
    "        self.pages = pages\n",
    "\n",
    "    def book_type(self):\n",
    "        return \"Hard Copy\"\n",
    "\n",
    "# EBook class (Extends Book)\n",
    "class EBook(Book):\n",
    "    def __init__(self, title, author, book_id, file_size):\n",
    "        super().__init__(title, author, book_id)\n",
    "        self.file_size = file_size\n",
    "\n",
    "    def book_type(self):\n",
    "        return \"E-Book\""
   ]
  },
  {
   "cell_type": "markdown",
   "id": "d2897f25-321a-486e-b81b-919ee207d77c",
   "metadata": {},
   "source": [
    " 4. **Polymorphism** :-Same function, different behavior based on the object. A physical book and an eBook both have a book_type(), but their responses are different.\n",
    "\n",
    "5. **Inheritance**  \n",
    "   - We can create *Person* class and inherit *Student* or *Librarian* classes from it"
   ]
  },
  {
   "cell_type": "code",
   "execution_count": 1,
   "id": "f9fc6627-2bdf-4253-afdb-cf7aaaddebdd",
   "metadata": {},
   "outputs": [],
   "source": [
    "# Base class for Users (Inheritance)\n",
    "class Person:\n",
    "    def __init__(self, user_id, name):\n",
    "        self.user_id = user_id\n",
    "        self.name = name\n",
    "\n",
    "# Student class inheriting from Person\n",
    "class Student(Person):\n",
    "    def __init__(self, user_id, name, max_books=3):\n",
    "        super().__init__(user_id, name)\n",
    "        self.max_books = max_books\n",
    "        self.borrowed_books = 0\n",
    "\n",
    "class Librarian(Person):\n",
    "    def __init__(self, user_id, name):\n",
    "        super().__init__(user_id, name)\n",
    "\n"
   ]
  },
  {
   "cell_type": "markdown",
   "id": "89082f4e-2ab0-4aa0-8a26-e0d4632b35e4",
   "metadata": {},
   "source": [
    "## Linked List Algorithm:\n",
    "\n",
    "### 1. Create a Linked List (*LinkedList*)\n",
    "- Start with an empty list (head = None).\n",
    "\n",
    "### 2. Insert a Node at the End (*insert_end(data)*)\n",
    "- Create a new node.\n",
    "- If the list is empty, set head to the new node.\n",
    "- Else move the pointer to the last node and add the new node at the end.\n",
    "\n",
    "### 3. Delete a Book by Title (*delete(title)*)\n",
    "- Start from head and traverse the list to find matching title of the book.\n",
    "- If the book exists:\n",
    "  - If it is the first book in the list to be deleted, update head to the next node.\n",
    "  - Else, remove it by linking the previous node to the next node.\n",
    "- If not found, return \"Book not found.\"\n",
    "\n",
    "### 4. Display the List (*display()*)\n",
    "- If the list is empty, print \"No records found.\"\n",
    "- Else, go through each node and:\n",
    "  - If it's a Book, show the title, author, and availability.\n",
    "  - Otherwise, just print the data."
   ]
  },
  {
   "cell_type": "markdown",
   "id": "35b71207-baa6-4289-952d-5118b2503e2b",
   "metadata": {},
   "source": [
    "  \n",
    "\n",
    "## IMPLEMENTATION\n",
    "\n",
    "1. **Define Data Structures**\n",
    "   - Implement 3 **linked lists** to store books, users, and transactions.\n",
    "   - Each list node contains relevant information (e.g., book details, user info, or transaction records).\n",
    "\n",
    "2. **Book Management System**\n",
    "   - Implement operations to **add, remove, and search books** in the book linked list.\n",
    "   - Use linked list traversal to locate specific books through linear search.\n",
    "   - Maintain an **availability status** to track borrowed books.\n",
    "\n",
    "3. **User Management System**\n",
    "   - Maintain a linked list of **users**, tracking their **borrowed books**.\n",
    "   - Allow students to borrow books with a maximum limit.\n",
    "   - Ensure books are returned before borrowing new ones beyond the limit.\n",
    "\n",
    "4. **Transaction Tracking System**\n",
    "   - Use a linked list to store transaction history.\n",
    "   - Record details of **borrowed and returned books**.\n",
    "\n",
    "5. **Integration of Functionalities**\n",
    "   - **Librarians** manage the books by adding and removing them.\n",
    "   - **Students** can borrow and return books, following borrowing rules.\n",
    "   - **Transactions** are updated dynamically based on actions performed.\n",
    "  "
   ]
  },
  {
   "cell_type": "markdown",
   "id": "3c7a8ee0-328e-4445-b999-6f76a9db90fb",
   "metadata": {},
   "source": [
    "## Key Features and End Goals..\n",
    "\n",
    "Goals:-\n",
    "- Develop a dynamic and efficient system for managing a library.\n",
    "- Implement data structures (Linked Lists) to store and retrieve book and user records.\n",
    "- Ensure students can borrow and return books while enforcing borrowing limits.\n",
    "- Maintain a record of transactions to track book availability.\n",
    "- Test with dataset(approx 20 records)\n",
    "- Add a Tkinter interface for interactive and engaging user experience\n",
    "\n",
    "\n"
   ]
  },
  {
   "cell_type": "markdown",
   "id": "fac13d1a-ca95-46de-885e-5eae456a6c6d",
   "metadata": {},
   "source": [
    "## CONCLUSION\n",
    "The project covers essential data structure operations such as insertion, deletion, searching, and traversal, ensuring that book records, users, and borrowing history are managed efficiently. The use of three separate linked lists (for books, users, and transactions) allows for independent yet interconnected data handling, mimicking a real-world library system.\n",
    "\n",
    "By integrating different book types (HardCopy and EBook) and user types (Students and Librarians), the system shows how inheritance and data abstraction can simplify real-world situations. The transaction tracking list provides a way to monitor borrowed books and returning, ensuring accountability of the user."
   ]
  },
  {
   "cell_type": "markdown",
   "id": "0fd1ff91-7f2f-46ad-b04b-6c02b513238e",
   "metadata": {},
   "source": [
    "# TEAM MEMBERS:\n",
    "1. K.V.Meghana   CB.SC.U4AIE24022\n",
    "2. K Supriya     CB.SC.U4AIE24025\n",
    "3. K.Siva Kumar  CB.SC.U4AIE24027\n",
    "4. M.Mahendra    CB.SC.U4AIE24033"
   ]
  },
  {
   "cell_type": "code",
   "execution_count": null,
   "id": "f2737a05-f947-4cd8-bab8-8ab81b9c0767",
   "metadata": {},
   "outputs": [],
   "source": []
  },
  {
   "cell_type": "code",
   "execution_count": null,
   "id": "acf22985-d7c3-4926-89f1-4d9a58885ecb",
   "metadata": {},
   "outputs": [],
   "source": []
  }
 ],
 "metadata": {
  "kernelspec": {
   "display_name": "Python 3 (ipykernel)",
   "language": "python",
   "name": "python3"
  },
  "language_info": {
   "codemirror_mode": {
    "name": "ipython",
    "version": 3
   },
   "file_extension": ".py",
   "mimetype": "text/x-python",
   "name": "python",
   "nbconvert_exporter": "python",
   "pygments_lexer": "ipython3",
   "version": "3.12.4"
  }
 },
 "nbformat": 4,
 "nbformat_minor": 5
}
